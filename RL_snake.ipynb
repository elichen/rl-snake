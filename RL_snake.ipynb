{
  "nbformat": 4,
  "nbformat_minor": 0,
  "metadata": {
    "colab": {
      "provenance": [],
      "authorship_tag": "ABX9TyMvkjWhfizw+MpqxEFZpwV4",
      "include_colab_link": true
    },
    "kernelspec": {
      "name": "python3",
      "display_name": "Python 3"
    },
    "language_info": {
      "name": "python"
    }
  },
  "cells": [
    {
      "cell_type": "markdown",
      "metadata": {
        "id": "view-in-github",
        "colab_type": "text"
      },
      "source": [
        "<a href=\"https://colab.research.google.com/github/elichen/rl-snake/blob/main/RL_snake.ipynb\" target=\"_parent\"><img src=\"https://colab.research.google.com/assets/colab-badge.svg\" alt=\"Open In Colab\"/></a>"
      ]
    },
    {
      "cell_type": "code",
      "execution_count": 1,
      "metadata": {
        "id": "7K526Ys6VATk"
      },
      "outputs": [],
      "source": [
        "%pip install -q pygame"
      ]
    },
    {
      "cell_type": "code",
      "source": [
        "from pickle import TRUE\n",
        "import pygame\n",
        "import random\n",
        "import numpy as np\n",
        "import imageio\n",
        "import io\n",
        "from IPython.display import Image, display\n",
        "\n",
        "class SnakeGame:\n",
        "    def __init__(self, width, height, grid_size):\n",
        "        self.width = width\n",
        "        self.height = height\n",
        "        self.grid_size = grid_size\n",
        "        self.grid_width = width // grid_size\n",
        "        self.grid_height = height // grid_size\n",
        "        self.snake_speed = 10\n",
        "        self.black = (0, 0, 0)\n",
        "        self.white = (255, 255, 255)\n",
        "        self.red = (255, 0, 0)\n",
        "        self.window = None\n",
        "        self.clock = None\n",
        "        self.reset()\n",
        "\n",
        "    def reset(self):\n",
        "        self.snake_x = self.grid_width // 2\n",
        "        self.snake_y = self.grid_height // 2\n",
        "        self.snake_dx = 0\n",
        "        self.snake_dy = 0\n",
        "        self.snake_body = [(self.snake_x, self.snake_y)]\n",
        "        self.food_x = random.randint(0, self.grid_width - 1)\n",
        "        self.food_y = random.randint(0, self.grid_height - 1)\n",
        "        self.score = 0\n",
        "        self.frames = []\n",
        "\n",
        "    def get_direction(self, snake_x, snake_y, food_x, food_y):\n",
        "        if abs(snake_x - food_x) > abs(snake_y - food_y):\n",
        "            if snake_x > food_x:\n",
        "                return -1, 0\n",
        "            else:\n",
        "                return 1, 0\n",
        "        else:\n",
        "            if snake_y > food_y:\n",
        "                return 0, -1\n",
        "            else:\n",
        "                return 0, 1\n",
        "\n",
        "    def is_food_overlapping_snake(self, food_x, food_y, snake_body):\n",
        "        return (food_x, food_y) in snake_body\n",
        "\n",
        "    def play_step(self, action=None):\n",
        "        # Move the snake\n",
        "        self.snake_dx, self.snake_dy = self.get_direction(self.snake_x, self.snake_y, self.food_x, self.food_y)\n",
        "        self.snake_x += self.snake_dx\n",
        "        self.snake_y += self.snake_dy\n",
        "        self.snake_body.append((self.snake_x, self.snake_y))\n",
        "\n",
        "        # Check for collision with the food\n",
        "        if self.snake_x == self.food_x and self.snake_y == self.food_y:\n",
        "            self.score += 1\n",
        "            while True:\n",
        "                self.food_x = random.randint(0, self.grid_width - 1)\n",
        "                self.food_y = random.randint(0, self.grid_height - 1)\n",
        "                if not self.is_food_overlapping_snake(self.food_x, self.food_y, self.snake_body):\n",
        "                    break\n",
        "        else:\n",
        "            self.snake_body.pop(0)\n",
        "\n",
        "        # Check for collision with the boundaries\n",
        "        if self.snake_x < 0 or self.snake_x >= self.grid_width or self.snake_y < 0 or self.snake_y >= self.grid_height:\n",
        "            return True, self.score\n",
        "\n",
        "        # Check for collision with itself\n",
        "        if len(self.snake_body) > 1 and (self.snake_x, self.snake_y) in self.snake_body[:-1]:\n",
        "            return True, self.score\n",
        "\n",
        "        # Clear the window\n",
        "        self.window.fill(self.black)\n",
        "\n",
        "        # Draw the snake\n",
        "        for body_part in self.snake_body:\n",
        "            pygame.draw.rect(self.window, self.white, [body_part[0] * self.grid_size, body_part[1] * self.grid_size, self.grid_size, self.grid_size])\n",
        "\n",
        "        # Draw the food\n",
        "        pygame.draw.rect(self.window, self.red, [self.food_x * self.grid_size, self.food_y * self.grid_size, self.grid_size, self.grid_size])\n",
        "\n",
        "        # Update the display\n",
        "        pygame.display.update()\n",
        "\n",
        "        # Capture the frame as an image\n",
        "        frame = pygame.surfarray.array3d(pygame.display.get_surface())\n",
        "        frame = np.swapaxes(frame, 0, 1)\n",
        "        self.frames.append(frame)\n",
        "\n",
        "        self.clock.tick(self.snake_speed)\n",
        "        return False, self.score\n",
        "\n",
        "    def save_gif(self):\n",
        "        gif_data = io.BytesIO()\n",
        "        writer = imageio.get_writer(gif_data, format='GIF', duration=1/self.snake_speed)\n",
        "        for frame in self.frames:\n",
        "            writer.append_data(frame)\n",
        "        writer.close()\n",
        "        gif_data.seek(0)\n",
        "        return gif_data\n",
        "\n",
        "game = SnakeGame(width=400, height=400, grid_size=20)\n",
        "pygame.init()\n",
        "game.window = pygame.display.set_mode((game.width, game.height))\n",
        "pygame.display.set_caption(\"Snake Game\")\n",
        "game.clock = pygame.time.Clock()\n",
        "\n",
        "game.reset()\n",
        "while True:\n",
        "    game_over, score = game.play_step()\n",
        "    if game_over: break\n",
        "print(f\"Score = {score}\")\n",
        "\n",
        "pygame.quit()\n",
        "\n",
        "gif_data = game.save_gif()\n",
        "display(Image(data=gif_data.getvalue(), format='gif'))"
      ],
      "metadata": {
        "colab": {
          "base_uri": "https://localhost:8080/",
          "height": 435
        },
        "id": "LQKzS8D6uBVD",
        "outputId": "2a062e77-8be3-45f7-b8c8-fff893ce864e"
      },
      "execution_count": 48,
      "outputs": [
        {
          "output_type": "stream",
          "name": "stdout",
          "text": [
            "Score = 5\n"
          ]
        },
        {
          "output_type": "display_data",
          "data": {
            "image/gif": "[encoded data removed]",
            "text/plain": [
              "<IPython.core.display.Image object>"
            ]
          },
          "metadata": {}
        }
      ]
    }
  ]
}